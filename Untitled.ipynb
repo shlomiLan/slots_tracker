{
 "cells": [
  {
   "cell_type": "code",
   "execution_count": 115,
   "metadata": {},
   "outputs": [],
   "source": [
    "import pandas as pd\n",
    "from slots_tracker_server.models import Expense\n",
    "from datetime import datetime\n"
   ]
  },
  {
   "cell_type": "code",
   "execution_count": 118,
   "metadata": {},
   "outputs": [
    {
     "data": {
      "text/html": [
       "<div>\n",
       "<style scoped>\n",
       "    .dataframe tbody tr th:only-of-type {\n",
       "        vertical-align: middle;\n",
       "    }\n",
       "\n",
       "    .dataframe tbody tr th {\n",
       "        vertical-align: top;\n",
       "    }\n",
       "\n",
       "    .dataframe thead th {\n",
       "        text-align: right;\n",
       "    }\n",
       "</style>\n",
       "<table border=\"1\" class=\"dataframe\">\n",
       "  <thead>\n",
       "    <tr style=\"text-align: right;\">\n",
       "      <th></th>\n",
       "      <th>_id</th>\n",
       "      <th>amount</th>\n",
       "      <th>pay_method</th>\n",
       "      <th>timestamp</th>\n",
       "      <th>active</th>\n",
       "      <th>category</th>\n",
       "      <th>one_time</th>\n",
       "      <th>business_name</th>\n",
       "    </tr>\n",
       "  </thead>\n",
       "  <tbody>\n",
       "    <tr>\n",
       "      <th>2735</th>\n",
       "      <td>5f4d68cf4d47b9808fb69805</td>\n",
       "      <td>37.0</td>\n",
       "      <td>5ba3e7472c88842df49ca273</td>\n",
       "      <td>2020-08-30</td>\n",
       "      <td>True</td>\n",
       "      <td>5ba3e7492c88842df49ca27b</td>\n",
       "      <td>False</td>\n",
       "      <td>קפה אנאבל</td>\n",
       "    </tr>\n",
       "    <tr>\n",
       "      <th>2736</th>\n",
       "      <td>5f4d68cf4d47b9808fb69806</td>\n",
       "      <td>26.0</td>\n",
       "      <td>5ba3e7472c88842df49ca274</td>\n",
       "      <td>2020-08-30</td>\n",
       "      <td>True</td>\n",
       "      <td>5ba3e7492c88842df49ca27b</td>\n",
       "      <td>False</td>\n",
       "      <td>בוטיק סנטרל כיכר מסריק</td>\n",
       "    </tr>\n",
       "    <tr>\n",
       "      <th>2737</th>\n",
       "      <td>5f4d68cf578bbd8c569bf203</td>\n",
       "      <td>46.5</td>\n",
       "      <td>5ba3e7472c88842df49ca273</td>\n",
       "      <td>2020-08-31</td>\n",
       "      <td>True</td>\n",
       "      <td>5f441f48dee804f42033c2b1</td>\n",
       "      <td>False</td>\n",
       "      <td>מלכה מרקט- מכולת של פעם</td>\n",
       "    </tr>\n",
       "    <tr>\n",
       "      <th>2738</th>\n",
       "      <td>5f4e8e43ed116e00ba9df619</td>\n",
       "      <td>268.0</td>\n",
       "      <td>5be490a96dcb660027de4298</td>\n",
       "      <td>2020-09-01</td>\n",
       "      <td>True</td>\n",
       "      <td>5ba3e7492c88842df49ca27b</td>\n",
       "      <td>False</td>\n",
       "      <td>NaN</td>\n",
       "    </tr>\n",
       "    <tr>\n",
       "      <th>2739</th>\n",
       "      <td>5f51d86858e20846921cd391</td>\n",
       "      <td>75.0</td>\n",
       "      <td>5c52d3979dba630027afc0e8</td>\n",
       "      <td>2020-09-04</td>\n",
       "      <td>True</td>\n",
       "      <td>5ba3e7492c88842df49ca27b</td>\n",
       "      <td>False</td>\n",
       "      <td>NaN</td>\n",
       "    </tr>\n",
       "  </tbody>\n",
       "</table>\n",
       "</div>"
      ],
      "text/plain": [
       "                           _id  amount                pay_method  timestamp  \\\n",
       "2735  5f4d68cf4d47b9808fb69805    37.0  5ba3e7472c88842df49ca273 2020-08-30   \n",
       "2736  5f4d68cf4d47b9808fb69806    26.0  5ba3e7472c88842df49ca274 2020-08-30   \n",
       "2737  5f4d68cf578bbd8c569bf203    46.5  5ba3e7472c88842df49ca273 2020-08-31   \n",
       "2738  5f4e8e43ed116e00ba9df619   268.0  5be490a96dcb660027de4298 2020-09-01   \n",
       "2739  5f51d86858e20846921cd391    75.0  5c52d3979dba630027afc0e8 2020-09-04   \n",
       "\n",
       "      active                  category  one_time            business_name  \n",
       "2735    True  5ba3e7492c88842df49ca27b     False                קפה אנאבל  \n",
       "2736    True  5ba3e7492c88842df49ca27b     False   בוטיק סנטרל כיכר מסריק  \n",
       "2737    True  5f441f48dee804f42033c2b1     False  מלכה מרקט- מכולת של פעם  \n",
       "2738    True  5ba3e7492c88842df49ca27b     False                      NaN  \n",
       "2739    True  5ba3e7492c88842df49ca27b     False                      NaN  "
      ]
     },
     "execution_count": 118,
     "metadata": {},
     "output_type": "execute_result"
    }
   ],
   "source": [
    "expense_data = pd.DataFrame(Expense.objects().to_json())\n",
    "expense_data.timestamp = pd.to_datetime(expense_data.timestamp)\n",
    "today = datetime.today()\n",
    "expense_data = expense_data[expense_data.timestamp <= today]\n",
    "one_time = expense_data[expense_data.one_time]\n",
    "not_one_time = expense_data[~expense_data.one_time]\n",
    "expense_data.tail()"
   ]
  },
  {
   "cell_type": "code",
   "execution_count": 4,
   "metadata": {},
   "outputs": [
    {
     "data": {
      "text/plain": [
       "category\n",
       "5ba3e7492c88842df49ca27e    65857.0\n",
       "5ba3e7492c88842df49ca27b    54787.0\n",
       "5ba3e74a2c88842df49ca282    48630.0\n",
       "5ba3e7492c88842df49ca27f    46330.0\n",
       "5ba3e74a2c88842df49ca281    25420.0\n",
       "                             ...   \n",
       "5f48187487829abe536f4f21        8.0\n",
       "5f2c5892fc228827e8429e27        6.0\n",
       "5f48183887829abe536f4eee        0.0\n",
       "5f00e89ca5664146f8034b57      -33.0\n",
       "5ba77c8d1eefa20028082db4    -2582.0\n",
       "Name: amount, Length: 95, dtype: float64"
      ]
     },
     "execution_count": 4,
     "metadata": {},
     "output_type": "execute_result"
    }
   ],
   "source": [
    "temp = not_one_time.groupby('category').sum().round().amount.sort_values(ascending=False)\n",
    "temp"
   ]
  },
  {
   "cell_type": "code",
   "execution_count": 30,
   "metadata": {},
   "outputs": [
    {
     "data": {
      "text/plain": [
       "category\n",
       "5ba3e74a2c88842df49ca282    7299.0\n",
       "5ba3e7492c88842df49ca27b    6863.0\n",
       "5ba3e74a2c88842df49ca281    5416.0\n",
       "5ba3e7492c88842df49ca27e    4920.0\n",
       "5ba3e7492c88842df49ca27f    4904.0\n",
       "5ba3e74a2c88842df49ca284    3440.0\n",
       "5ba3e74a2c88842df49ca280    1590.0\n",
       "5ba3e7492c88842df49ca27d    1322.0\n",
       "5ba3e7492c88842df49ca27a    1163.0\n",
       "5ba3e74a2c88842df49ca283     860.0\n",
       "5ba3e7492c88842df49ca27c     685.0\n",
       "5ba3e74b2c88842df49ca286     684.0\n",
       "5ba3e74b2c88842df49ca287     464.0\n",
       "5bc082b1ca39f80027787980      58.0\n",
       "5ba3e74a2c88842df49ca285      30.0\n",
       "Name: amount, dtype: float64"
      ]
     },
     "execution_count": 30,
     "metadata": {},
     "output_type": "execute_result"
    }
   ],
   "source": [
    "temp2 = not_one_time.groupby('category').sum().round().amount.sort_values(ascending=False)\n",
    "temp2"
   ]
  },
  {
   "cell_type": "code",
   "execution_count": 11,
   "metadata": {},
   "outputs": [
    {
     "data": {
      "text/plain": [
       "_id           539\n",
       "amount        539\n",
       "pay_method    539\n",
       "timestamp     539\n",
       "active        539\n",
       "category      539\n",
       "one_time      539\n",
       "dtype: int64"
      ]
     },
     "execution_count": 11,
     "metadata": {},
     "output_type": "execute_result"
    }
   ],
   "source": [
    "not_one_time[not_one_time.category == '5ba3e74a2c88842df49ca282'].count()"
   ]
  },
  {
   "cell_type": "code",
   "execution_count": 18,
   "metadata": {},
   "outputs": [],
   "source": [
    "from datetime import datetime\n",
    "today = datetime.today()"
   ]
  },
  {
   "cell_type": "code",
   "execution_count": 91,
   "metadata": {},
   "outputs": [
    {
     "data": {
      "text/html": [
       "<div>\n",
       "<style scoped>\n",
       "    .dataframe tbody tr th:only-of-type {\n",
       "        vertical-align: middle;\n",
       "    }\n",
       "\n",
       "    .dataframe tbody tr th {\n",
       "        vertical-align: top;\n",
       "    }\n",
       "\n",
       "    .dataframe thead th {\n",
       "        text-align: right;\n",
       "    }\n",
       "</style>\n",
       "<table border=\"1\" class=\"dataframe\">\n",
       "  <thead>\n",
       "    <tr style=\"text-align: right;\">\n",
       "      <th></th>\n",
       "      <th>_id</th>\n",
       "      <th>amount</th>\n",
       "      <th>pay_method</th>\n",
       "      <th>timestamp</th>\n",
       "      <th>active</th>\n",
       "      <th>category</th>\n",
       "      <th>one_time</th>\n",
       "    </tr>\n",
       "  </thead>\n",
       "  <tbody>\n",
       "    <tr>\n",
       "      <th>1163</th>\n",
       "      <td>5cf6baa1349a4d1073ed9741</td>\n",
       "      <td>890.0</td>\n",
       "      <td>5ba3e7472c88842df49ca272</td>\n",
       "      <td>2019-06-04</td>\n",
       "      <td>True</td>\n",
       "      <td>5ba3e7492c88842df49ca27b</td>\n",
       "      <td>False</td>\n",
       "    </tr>\n",
       "    <tr>\n",
       "      <th>52</th>\n",
       "      <td>5ba3e76c2c88842df49ca2bc</td>\n",
       "      <td>663.4</td>\n",
       "      <td>5ba3e7472c88842df49ca272</td>\n",
       "      <td>2018-06-25</td>\n",
       "      <td>True</td>\n",
       "      <td>5ba3e74a2c88842df49ca282</td>\n",
       "      <td>False</td>\n",
       "    </tr>\n",
       "    <tr>\n",
       "      <th>1372</th>\n",
       "      <td>5d579268057f8779fabc8644</td>\n",
       "      <td>569.0</td>\n",
       "      <td>5ba3e7472c88842df49ca272</td>\n",
       "      <td>2019-07-31</td>\n",
       "      <td>True</td>\n",
       "      <td>5ba3e74a2c88842df49ca282</td>\n",
       "      <td>False</td>\n",
       "    </tr>\n",
       "    <tr>\n",
       "      <th>1122</th>\n",
       "      <td>5ce5a4fcc14379a9c77937de</td>\n",
       "      <td>460.0</td>\n",
       "      <td>5ba3e7472c88842df49ca270</td>\n",
       "      <td>2019-05-20</td>\n",
       "      <td>True</td>\n",
       "      <td>5ba3e7492c88842df49ca27b</td>\n",
       "      <td>False</td>\n",
       "    </tr>\n",
       "  </tbody>\n",
       "</table>\n",
       "</div>"
      ],
      "text/plain": [
       "                           _id  amount                pay_method  timestamp  \\\n",
       "1163  5cf6baa1349a4d1073ed9741   890.0  5ba3e7472c88842df49ca272 2019-06-04   \n",
       "52    5ba3e76c2c88842df49ca2bc   663.4  5ba3e7472c88842df49ca272 2018-06-25   \n",
       "1372  5d579268057f8779fabc8644   569.0  5ba3e7472c88842df49ca272 2019-07-31   \n",
       "1122  5ce5a4fcc14379a9c77937de   460.0  5ba3e7472c88842df49ca270 2019-05-20   \n",
       "\n",
       "      active                  category  one_time  \n",
       "1163    True  5ba3e7492c88842df49ca27b     False  \n",
       "52      True  5ba3e74a2c88842df49ca282     False  \n",
       "1372    True  5ba3e74a2c88842df49ca282     False  \n",
       "1122    True  5ba3e7492c88842df49ca27b     False  "
      ]
     },
     "execution_count": 91,
     "metadata": {},
     "output_type": "execute_result"
    }
   ],
   "source": [
    "expense_data[ \n",
    "    ((expense_data.category == '5ba3e74a2c88842df49ca282') | \n",
    "     (expense_data.category == '5ba3e7492c88842df49ca27b'))].sort_values(\n",
    "    'amount', ascending=False).groupby('category').head(2)"
   ]
  },
  {
   "cell_type": "code",
   "execution_count": 124,
   "metadata": {},
   "outputs": [
    {
     "data": {
      "text/plain": [
       "Timestamp('2020-06-01 18:15:07.640732')"
      ]
     },
     "execution_count": 124,
     "metadata": {},
     "output_type": "execute_result"
    }
   ],
   "source": [
    "pd.set_option('display.max_rows', 500)\n",
    "\n",
    "#daily = df.set_index('timestamp').groupby(pd.TimeGrouper(freq='D', axis=1), axis=1)['impact'].count()\n",
    "x = expense_data.set_index(\"timestamp\").last(\"1M\")\n",
    "# x\n",
    "# y = x.groupby(pd.Grouper(freq='1M'), axis=0)\n",
    "# y.sum()\n",
    "# expense_data.set_index(\"timestamp\").DateOffset(months=1)\n",
    "\n",
    "# expense_data['timestamp'].dt.to_period(\"M\").DateOffset(months=1)\n",
    "from datetime import datetime\n",
    "\n",
    "# expense_data[expense_data.timestamp >= (datetime.today() - pd.tseries.offsets.MonthBegin(2))].groupby(pd.Grouper(key='timestamp', freq='1M')).sum()\n",
    "datetime.today() - pd.tseries.offsets.MonthBegin(5)\n",
    "\n",
    "\n",
    "\n"
   ]
  },
  {
   "cell_type": "code",
   "execution_count": 90,
   "metadata": {},
   "outputs": [
    {
     "data": {
      "text/html": [
       "<div>\n",
       "<style scoped>\n",
       "    .dataframe tbody tr th:only-of-type {\n",
       "        vertical-align: middle;\n",
       "    }\n",
       "\n",
       "    .dataframe tbody tr th {\n",
       "        vertical-align: top;\n",
       "    }\n",
       "\n",
       "    .dataframe thead th {\n",
       "        text-align: right;\n",
       "    }\n",
       "</style>\n",
       "<table border=\"1\" class=\"dataframe\">\n",
       "  <thead>\n",
       "    <tr style=\"text-align: right;\">\n",
       "      <th></th>\n",
       "      <th>amount</th>\n",
       "      <th>active</th>\n",
       "      <th>one_time</th>\n",
       "    </tr>\n",
       "    <tr>\n",
       "      <th>timestamp</th>\n",
       "      <th></th>\n",
       "      <th></th>\n",
       "      <th></th>\n",
       "    </tr>\n",
       "  </thead>\n",
       "  <tbody>\n",
       "    <tr>\n",
       "      <th>2018-06-30</th>\n",
       "      <td>6145.370000</td>\n",
       "      <td>68</td>\n",
       "      <td>2</td>\n",
       "    </tr>\n",
       "    <tr>\n",
       "      <th>2018-07-31</th>\n",
       "      <td>10584.310000</td>\n",
       "      <td>126</td>\n",
       "      <td>2</td>\n",
       "    </tr>\n",
       "    <tr>\n",
       "      <th>2018-08-31</th>\n",
       "      <td>9066.590000</td>\n",
       "      <td>122</td>\n",
       "      <td>3</td>\n",
       "    </tr>\n",
       "    <tr>\n",
       "      <th>2018-09-30</th>\n",
       "      <td>13726.330000</td>\n",
       "      <td>116</td>\n",
       "      <td>6</td>\n",
       "    </tr>\n",
       "    <tr>\n",
       "      <th>2018-10-31</th>\n",
       "      <td>6806.980000</td>\n",
       "      <td>99</td>\n",
       "      <td>3</td>\n",
       "    </tr>\n",
       "    <tr>\n",
       "      <th>2018-11-30</th>\n",
       "      <td>12515.750000</td>\n",
       "      <td>89</td>\n",
       "      <td>3</td>\n",
       "    </tr>\n",
       "    <tr>\n",
       "      <th>2018-12-31</th>\n",
       "      <td>11018.100000</td>\n",
       "      <td>95</td>\n",
       "      <td>2</td>\n",
       "    </tr>\n",
       "    <tr>\n",
       "      <th>2019-01-31</th>\n",
       "      <td>12412.620000</td>\n",
       "      <td>96</td>\n",
       "      <td>2</td>\n",
       "    </tr>\n",
       "    <tr>\n",
       "      <th>2019-02-28</th>\n",
       "      <td>8360.770000</td>\n",
       "      <td>74</td>\n",
       "      <td>1</td>\n",
       "    </tr>\n",
       "    <tr>\n",
       "      <th>2019-03-31</th>\n",
       "      <td>13025.610000</td>\n",
       "      <td>80</td>\n",
       "      <td>2</td>\n",
       "    </tr>\n",
       "    <tr>\n",
       "      <th>2019-04-30</th>\n",
       "      <td>14587.240000</td>\n",
       "      <td>91</td>\n",
       "      <td>2</td>\n",
       "    </tr>\n",
       "    <tr>\n",
       "      <th>2019-05-31</th>\n",
       "      <td>14548.665000</td>\n",
       "      <td>101</td>\n",
       "      <td>1</td>\n",
       "    </tr>\n",
       "    <tr>\n",
       "      <th>2019-06-30</th>\n",
       "      <td>10913.190000</td>\n",
       "      <td>80</td>\n",
       "      <td>1</td>\n",
       "    </tr>\n",
       "    <tr>\n",
       "      <th>2019-07-31</th>\n",
       "      <td>18222.346667</td>\n",
       "      <td>100</td>\n",
       "      <td>2</td>\n",
       "    </tr>\n",
       "    <tr>\n",
       "      <th>2019-08-31</th>\n",
       "      <td>12870.806667</td>\n",
       "      <td>88</td>\n",
       "      <td>4</td>\n",
       "    </tr>\n",
       "    <tr>\n",
       "      <th>2019-09-30</th>\n",
       "      <td>10586.316667</td>\n",
       "      <td>61</td>\n",
       "      <td>3</td>\n",
       "    </tr>\n",
       "    <tr>\n",
       "      <th>2019-10-31</th>\n",
       "      <td>8266.530000</td>\n",
       "      <td>54</td>\n",
       "      <td>2</td>\n",
       "    </tr>\n",
       "    <tr>\n",
       "      <th>2019-11-30</th>\n",
       "      <td>11356.860000</td>\n",
       "      <td>121</td>\n",
       "      <td>2</td>\n",
       "    </tr>\n",
       "    <tr>\n",
       "      <th>2019-12-31</th>\n",
       "      <td>21634.350000</td>\n",
       "      <td>141</td>\n",
       "      <td>2</td>\n",
       "    </tr>\n",
       "    <tr>\n",
       "      <th>2020-01-31</th>\n",
       "      <td>27038.000000</td>\n",
       "      <td>169</td>\n",
       "      <td>2</td>\n",
       "    </tr>\n",
       "    <tr>\n",
       "      <th>2020-02-29</th>\n",
       "      <td>20320.450000</td>\n",
       "      <td>150</td>\n",
       "      <td>2</td>\n",
       "    </tr>\n",
       "    <tr>\n",
       "      <th>2020-03-31</th>\n",
       "      <td>27977.590000</td>\n",
       "      <td>145</td>\n",
       "      <td>0</td>\n",
       "    </tr>\n",
       "    <tr>\n",
       "      <th>2020-04-30</th>\n",
       "      <td>21432.300000</td>\n",
       "      <td>90</td>\n",
       "      <td>0</td>\n",
       "    </tr>\n",
       "    <tr>\n",
       "      <th>2020-05-31</th>\n",
       "      <td>9983.130000</td>\n",
       "      <td>95</td>\n",
       "      <td>0</td>\n",
       "    </tr>\n",
       "    <tr>\n",
       "      <th>2020-06-30</th>\n",
       "      <td>14089.830000</td>\n",
       "      <td>145</td>\n",
       "      <td>0</td>\n",
       "    </tr>\n",
       "    <tr>\n",
       "      <th>2020-07-31</th>\n",
       "      <td>18010.886667</td>\n",
       "      <td>98</td>\n",
       "      <td>0</td>\n",
       "    </tr>\n",
       "    <tr>\n",
       "      <th>2020-08-31</th>\n",
       "      <td>7053.556667</td>\n",
       "      <td>43</td>\n",
       "      <td>0</td>\n",
       "    </tr>\n",
       "    <tr>\n",
       "      <th>2020-09-30</th>\n",
       "      <td>906.666667</td>\n",
       "      <td>3</td>\n",
       "      <td>0</td>\n",
       "    </tr>\n",
       "  </tbody>\n",
       "</table>\n",
       "</div>"
      ],
      "text/plain": [
       "                  amount  active  one_time\n",
       "timestamp                                 \n",
       "2018-06-30   6145.370000      68         2\n",
       "2018-07-31  10584.310000     126         2\n",
       "2018-08-31   9066.590000     122         3\n",
       "2018-09-30  13726.330000     116         6\n",
       "2018-10-31   6806.980000      99         3\n",
       "2018-11-30  12515.750000      89         3\n",
       "2018-12-31  11018.100000      95         2\n",
       "2019-01-31  12412.620000      96         2\n",
       "2019-02-28   8360.770000      74         1\n",
       "2019-03-31  13025.610000      80         2\n",
       "2019-04-30  14587.240000      91         2\n",
       "2019-05-31  14548.665000     101         1\n",
       "2019-06-30  10913.190000      80         1\n",
       "2019-07-31  18222.346667     100         2\n",
       "2019-08-31  12870.806667      88         4\n",
       "2019-09-30  10586.316667      61         3\n",
       "2019-10-31   8266.530000      54         2\n",
       "2019-11-30  11356.860000     121         2\n",
       "2019-12-31  21634.350000     141         2\n",
       "2020-01-31  27038.000000     169         2\n",
       "2020-02-29  20320.450000     150         2\n",
       "2020-03-31  27977.590000     145         0\n",
       "2020-04-30  21432.300000      90         0\n",
       "2020-05-31   9983.130000      95         0\n",
       "2020-06-30  14089.830000     145         0\n",
       "2020-07-31  18010.886667      98         0\n",
       "2020-08-31   7053.556667      43         0\n",
       "2020-09-30    906.666667       3         0"
      ]
     },
     "execution_count": 90,
     "metadata": {},
     "output_type": "execute_result"
    }
   ],
   "source": [
    "expense_data.groupby(pd.Grouper(key='timestamp', freq='1M')).sum()"
   ]
  },
  {
   "cell_type": "code",
   "execution_count": null,
   "metadata": {},
   "outputs": [],
   "source": []
  },
  {
   "cell_type": "code",
   "execution_count": null,
   "metadata": {},
   "outputs": [],
   "source": []
  },
  {
   "cell_type": "code",
   "execution_count": null,
   "metadata": {},
   "outputs": [],
   "source": []
  },
  {
   "cell_type": "code",
   "execution_count": null,
   "metadata": {},
   "outputs": [],
   "source": []
  },
  {
   "cell_type": "code",
   "execution_count": null,
   "metadata": {},
   "outputs": [],
   "source": []
  },
  {
   "cell_type": "code",
   "execution_count": null,
   "metadata": {},
   "outputs": [],
   "source": []
  },
  {
   "cell_type": "code",
   "execution_count": null,
   "metadata": {},
   "outputs": [],
   "source": []
  },
  {
   "cell_type": "code",
   "execution_count": null,
   "metadata": {},
   "outputs": [],
   "source": []
  },
  {
   "cell_type": "code",
   "execution_count": null,
   "metadata": {},
   "outputs": [],
   "source": []
  },
  {
   "cell_type": "code",
   "execution_count": null,
   "metadata": {},
   "outputs": [],
   "source": []
  },
  {
   "cell_type": "code",
   "execution_count": null,
   "metadata": {},
   "outputs": [],
   "source": []
  },
  {
   "cell_type": "code",
   "execution_count": null,
   "metadata": {},
   "outputs": [],
   "source": []
  },
  {
   "cell_type": "code",
   "execution_count": null,
   "metadata": {},
   "outputs": [],
   "source": []
  },
  {
   "cell_type": "code",
   "execution_count": null,
   "metadata": {},
   "outputs": [],
   "source": []
  },
  {
   "cell_type": "code",
   "execution_count": null,
   "metadata": {},
   "outputs": [],
   "source": []
  },
  {
   "cell_type": "code",
   "execution_count": null,
   "metadata": {},
   "outputs": [],
   "source": []
  },
  {
   "cell_type": "code",
   "execution_count": null,
   "metadata": {},
   "outputs": [],
   "source": []
  },
  {
   "cell_type": "code",
   "execution_count": null,
   "metadata": {},
   "outputs": [],
   "source": []
  },
  {
   "cell_type": "code",
   "execution_count": null,
   "metadata": {},
   "outputs": [],
   "source": []
  },
  {
   "cell_type": "code",
   "execution_count": null,
   "metadata": {},
   "outputs": [],
   "source": []
  },
  {
   "cell_type": "code",
   "execution_count": null,
   "metadata": {},
   "outputs": [],
   "source": []
  },
  {
   "cell_type": "code",
   "execution_count": null,
   "metadata": {},
   "outputs": [],
   "source": []
  },
  {
   "cell_type": "code",
   "execution_count": null,
   "metadata": {},
   "outputs": [],
   "source": []
  },
  {
   "cell_type": "code",
   "execution_count": null,
   "metadata": {},
   "outputs": [],
   "source": []
  },
  {
   "cell_type": "code",
   "execution_count": null,
   "metadata": {},
   "outputs": [],
   "source": []
  },
  {
   "cell_type": "code",
   "execution_count": null,
   "metadata": {},
   "outputs": [],
   "source": []
  },
  {
   "cell_type": "code",
   "execution_count": null,
   "metadata": {},
   "outputs": [],
   "source": []
  },
  {
   "cell_type": "code",
   "execution_count": null,
   "metadata": {},
   "outputs": [],
   "source": []
  },
  {
   "cell_type": "code",
   "execution_count": null,
   "metadata": {},
   "outputs": [],
   "source": []
  },
  {
   "cell_type": "code",
   "execution_count": null,
   "metadata": {},
   "outputs": [],
   "source": []
  },
  {
   "cell_type": "code",
   "execution_count": null,
   "metadata": {},
   "outputs": [],
   "source": []
  },
  {
   "cell_type": "code",
   "execution_count": null,
   "metadata": {},
   "outputs": [],
   "source": []
  },
  {
   "cell_type": "code",
   "execution_count": null,
   "metadata": {},
   "outputs": [],
   "source": []
  },
  {
   "cell_type": "code",
   "execution_count": null,
   "metadata": {},
   "outputs": [],
   "source": []
  },
  {
   "cell_type": "code",
   "execution_count": null,
   "metadata": {},
   "outputs": [],
   "source": []
  },
  {
   "cell_type": "code",
   "execution_count": null,
   "metadata": {},
   "outputs": [],
   "source": []
  },
  {
   "cell_type": "code",
   "execution_count": null,
   "metadata": {},
   "outputs": [],
   "source": []
  },
  {
   "cell_type": "code",
   "execution_count": null,
   "metadata": {},
   "outputs": [],
   "source": []
  },
  {
   "cell_type": "code",
   "execution_count": null,
   "metadata": {},
   "outputs": [],
   "source": []
  },
  {
   "cell_type": "code",
   "execution_count": null,
   "metadata": {},
   "outputs": [],
   "source": []
  },
  {
   "cell_type": "code",
   "execution_count": null,
   "metadata": {},
   "outputs": [],
   "source": []
  },
  {
   "cell_type": "code",
   "execution_count": null,
   "metadata": {},
   "outputs": [],
   "source": []
  },
  {
   "cell_type": "code",
   "execution_count": null,
   "metadata": {},
   "outputs": [],
   "source": []
  },
  {
   "cell_type": "code",
   "execution_count": null,
   "metadata": {},
   "outputs": [],
   "source": []
  },
  {
   "cell_type": "code",
   "execution_count": null,
   "metadata": {},
   "outputs": [],
   "source": []
  },
  {
   "cell_type": "code",
   "execution_count": null,
   "metadata": {},
   "outputs": [],
   "source": []
  },
  {
   "cell_type": "code",
   "execution_count": null,
   "metadata": {},
   "outputs": [],
   "source": []
  },
  {
   "cell_type": "code",
   "execution_count": null,
   "metadata": {},
   "outputs": [],
   "source": []
  },
  {
   "cell_type": "code",
   "execution_count": 36,
   "metadata": {},
   "outputs": [],
   "source": [
    "%autoreload 2\n",
    "from pyinvoke.db import transform_desc\n",
    "c = Counter()\n",
    "for item in res:\n",
    "    description = item.description\n",
    "    clean_description = transform_desc(description)\n",
    "    c[clean_description] += 1\n",
    "\n",
    "values = []\n",
    "# for x in c.most_common():\n",
    "#     if x[1] > 1:\n",
    "#         values.append(x)\n",
    "\n",
    "for x in sorted(c.items()):\n",
    "    values.append(x)"
   ]
  }
 ],
 "metadata": {
  "kernelspec": {
   "display_name": ".venv",
   "language": "python",
   "name": ".venv"
  },
  "language_info": {
   "codemirror_mode": {
    "name": "ipython",
    "version": 3
   },
   "file_extension": ".py",
   "mimetype": "text/x-python",
   "name": "python",
   "nbconvert_exporter": "python",
   "pygments_lexer": "ipython3",
   "version": "3.7.6"
  }
 },
 "nbformat": 4,
 "nbformat_minor": 2
}

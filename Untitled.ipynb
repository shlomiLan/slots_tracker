{
 "cells": [
  {
   "cell_type": "code",
   "execution_count": 1,
   "metadata": {},
   "outputs": [],
   "source": [
    "import pandas as pd\n",
    "from slots_tracker_server.models import Expense"
   ]
  },
  {
   "cell_type": "code",
   "execution_count": 2,
   "metadata": {},
   "outputs": [
    {
     "data": {
      "text/html": [
       "<div>\n",
       "<style scoped>\n",
       "    .dataframe tbody tr th:only-of-type {\n",
       "        vertical-align: middle;\n",
       "    }\n",
       "\n",
       "    .dataframe tbody tr th {\n",
       "        vertical-align: top;\n",
       "    }\n",
       "\n",
       "    .dataframe thead th {\n",
       "        text-align: right;\n",
       "    }\n",
       "</style>\n",
       "<table border=\"1\" class=\"dataframe\">\n",
       "  <thead>\n",
       "    <tr style=\"text-align: right;\">\n",
       "      <th></th>\n",
       "      <th>_id</th>\n",
       "      <th>amount</th>\n",
       "      <th>description</th>\n",
       "      <th>pay_method</th>\n",
       "      <th>timestamp</th>\n",
       "      <th>active</th>\n",
       "      <th>category</th>\n",
       "      <th>one_time</th>\n",
       "    </tr>\n",
       "  </thead>\n",
       "  <tbody>\n",
       "    <tr>\n",
       "      <td>1187</td>\n",
       "      <td>5d4f37955b705347fdf9ffaf</td>\n",
       "      <td>10.0</td>\n",
       "      <td>קפה</td>\n",
       "      <td>5ba3e7472c88842df49ca273</td>\n",
       "      <td>2019-08-11</td>\n",
       "      <td>True</td>\n",
       "      <td>5ba3e7492c88842df49ca27b</td>\n",
       "      <td>False</td>\n",
       "    </tr>\n",
       "    <tr>\n",
       "      <td>1188</td>\n",
       "      <td>5d4f37c05b705347fdf9ffb0</td>\n",
       "      <td>350.0</td>\n",
       "      <td>קפה</td>\n",
       "      <td>5be490a96dcb660027de4298</td>\n",
       "      <td>2019-08-11</td>\n",
       "      <td>True</td>\n",
       "      <td>5ba3e7492c88842df49ca27a</td>\n",
       "      <td>True</td>\n",
       "    </tr>\n",
       "    <tr>\n",
       "      <td>1189</td>\n",
       "      <td>5d4f37ec5b705347fdf9ffb1</td>\n",
       "      <td>40.0</td>\n",
       "      <td>מכולת</td>\n",
       "      <td>5be490a96dcb660027de4298</td>\n",
       "      <td>2019-08-11</td>\n",
       "      <td>True</td>\n",
       "      <td>5bc082b1ca39f80027787980</td>\n",
       "      <td>True</td>\n",
       "    </tr>\n",
       "    <tr>\n",
       "      <td>1190</td>\n",
       "      <td>5d4f38d05b705347fdf9ffb2</td>\n",
       "      <td>110.0</td>\n",
       "      <td>ccc</td>\n",
       "      <td>5be490a96dcb660027de4298</td>\n",
       "      <td>2019-08-11</td>\n",
       "      <td>True</td>\n",
       "      <td>5ba3e7492c88842df49ca27f</td>\n",
       "      <td>False</td>\n",
       "    </tr>\n",
       "    <tr>\n",
       "      <td>1191</td>\n",
       "      <td>5d643ddb9b7c0b6b7f49085f</td>\n",
       "      <td>111.0</td>\n",
       "      <td>NaN</td>\n",
       "      <td>5ba3e7472c88842df49ca270</td>\n",
       "      <td>2019-08-26</td>\n",
       "      <td>True</td>\n",
       "      <td>5ba3e7492c88842df49ca27b</td>\n",
       "      <td>False</td>\n",
       "    </tr>\n",
       "  </tbody>\n",
       "</table>\n",
       "</div>"
      ],
      "text/plain": [
       "                           _id  amount description                pay_method  \\\n",
       "1187  5d4f37955b705347fdf9ffaf    10.0         קפה  5ba3e7472c88842df49ca273   \n",
       "1188  5d4f37c05b705347fdf9ffb0   350.0         קפה  5be490a96dcb660027de4298   \n",
       "1189  5d4f37ec5b705347fdf9ffb1    40.0       מכולת  5be490a96dcb660027de4298   \n",
       "1190  5d4f38d05b705347fdf9ffb2   110.0         ccc  5be490a96dcb660027de4298   \n",
       "1191  5d643ddb9b7c0b6b7f49085f   111.0         NaN  5ba3e7472c88842df49ca270   \n",
       "\n",
       "      timestamp  active                  category  one_time  \n",
       "1187 2019-08-11    True  5ba3e7492c88842df49ca27b     False  \n",
       "1188 2019-08-11    True  5ba3e7492c88842df49ca27a      True  \n",
       "1189 2019-08-11    True  5bc082b1ca39f80027787980      True  \n",
       "1190 2019-08-11    True  5ba3e7492c88842df49ca27f     False  \n",
       "1191 2019-08-26    True  5ba3e7492c88842df49ca27b     False  "
      ]
     },
     "execution_count": 2,
     "metadata": {},
     "output_type": "execute_result"
    }
   ],
   "source": [
    "expense_data = pd.DataFrame(Expense.objects().to_json())\n",
    "expense_data.timestamp = pd.to_datetime(expense_data.timestamp)\n",
    "today = pd.datetime.today()\n",
    "expense_data = expense_data[expense_data.timestamp <= today]\n",
    "one_time = expense_data[expense_data.one_time]\n",
    "not_one_time = expense_data[~expense_data.one_time]\n",
    "expense_data.tail()"
   ]
  },
  {
   "cell_type": "code",
   "execution_count": 13,
   "metadata": {},
   "outputs": [
    {
     "data": {
      "text/plain": [
       "category\n",
       "5ba3e74a2c88842df49ca282    7299.0\n",
       "5ba3e7492c88842df49ca27b    6863.0\n",
       "5ba3e74a2c88842df49ca281    5416.0\n",
       "5ba3e7492c88842df49ca27e    4920.0\n",
       "5ba3e7492c88842df49ca27f    4904.0\n",
       "5ba3e74a2c88842df49ca284    3440.0\n",
       "5ba3e74a2c88842df49ca280    1590.0\n",
       "5ba3e7492c88842df49ca27d    1322.0\n",
       "5ba3e7492c88842df49ca27a    1163.0\n",
       "5ba3e74a2c88842df49ca283     860.0\n",
       "5ba3e7492c88842df49ca27c     685.0\n",
       "5ba3e74b2c88842df49ca286     684.0\n",
       "5ba3e74b2c88842df49ca287     464.0\n",
       "5bc082b1ca39f80027787980      58.0\n",
       "5ba3e74a2c88842df49ca285      30.0\n",
       "Name: amount, dtype: float64"
      ]
     },
     "execution_count": 13,
     "metadata": {},
     "output_type": "execute_result"
    }
   ],
   "source": [
    "temp = not_one_time.groupby('category').sum().round().amount.sort_values(ascending=False)\n",
    "temp"
   ]
  },
  {
   "cell_type": "code",
   "execution_count": 30,
   "metadata": {},
   "outputs": [
    {
     "data": {
      "text/plain": [
       "category\n",
       "5ba3e74a2c88842df49ca282    7299.0\n",
       "5ba3e7492c88842df49ca27b    6863.0\n",
       "5ba3e74a2c88842df49ca281    5416.0\n",
       "5ba3e7492c88842df49ca27e    4920.0\n",
       "5ba3e7492c88842df49ca27f    4904.0\n",
       "5ba3e74a2c88842df49ca284    3440.0\n",
       "5ba3e74a2c88842df49ca280    1590.0\n",
       "5ba3e7492c88842df49ca27d    1322.0\n",
       "5ba3e7492c88842df49ca27a    1163.0\n",
       "5ba3e74a2c88842df49ca283     860.0\n",
       "5ba3e7492c88842df49ca27c     685.0\n",
       "5ba3e74b2c88842df49ca286     684.0\n",
       "5ba3e74b2c88842df49ca287     464.0\n",
       "5bc082b1ca39f80027787980      58.0\n",
       "5ba3e74a2c88842df49ca285      30.0\n",
       "Name: amount, dtype: float64"
      ]
     },
     "execution_count": 30,
     "metadata": {},
     "output_type": "execute_result"
    }
   ],
   "source": [
    "temp2 = not_one_time.groupby('category').sum().round().amount.sort_values(ascending=False)\n",
    "temp2"
   ]
  },
  {
   "cell_type": "code",
   "execution_count": 18,
   "metadata": {},
   "outputs": [
    {
     "data": {
      "text/plain": [
       "_id            158\n",
       "active         158\n",
       "amount         158\n",
       "category       158\n",
       "description    158\n",
       "one_time       158\n",
       "pay_method     158\n",
       "timestamp      158\n",
       "dtype: int64"
      ]
     },
     "execution_count": 18,
     "metadata": {},
     "output_type": "execute_result"
    }
   ],
   "source": [
    "not_one_time[not_one_time.category == '5ba3e74a2c88842df49ca282'].count()"
   ]
  },
  {
   "cell_type": "code",
   "execution_count": 31,
   "metadata": {},
   "outputs": [
    {
     "data": {
      "text/plain": [
       "1824.75"
      ]
     },
     "execution_count": 31,
     "metadata": {},
     "output_type": "execute_result"
    }
   ],
   "source": [
    "7299 / 4"
   ]
  },
  {
   "cell_type": "code",
   "execution_count": null,
   "metadata": {},
   "outputs": [],
   "source": []
  },
  {
   "cell_type": "code",
   "execution_count": 22,
   "metadata": {},
   "outputs": [
    {
     "data": {
      "text/plain": [
       "Timestamp('2018-06-15 00:00:00')"
      ]
     },
     "execution_count": 22,
     "metadata": {},
     "output_type": "execute_result"
    }
   ],
   "source": [
    "not_one_time.timestamp.min()"
   ]
  },
  {
   "cell_type": "code",
   "execution_count": 25,
   "metadata": {},
   "outputs": [
    {
     "data": {
      "text/plain": [
       "Timestamp('2018-10-26 00:00:00')"
      ]
     },
     "execution_count": 25,
     "metadata": {},
     "output_type": "execute_result"
    }
   ],
   "source": [
    "not_one_time.timestamp.max()"
   ]
  },
  {
   "cell_type": "code",
   "execution_count": 33,
   "metadata": {},
   "outputs": [
    {
     "data": {
      "text/plain": [
       "133"
      ]
     },
     "execution_count": 33,
     "metadata": {},
     "output_type": "execute_result"
    }
   ],
   "source": [
    "(not_one_time.timestamp.max() - not_one_time.timestamp.min()).days"
   ]
  },
  {
   "cell_type": "code",
   "execution_count": 2,
   "metadata": {},
   "outputs": [],
   "source": [
    "from slots_tracker_server.models import Expense\n",
    "from collections import Counter\n",
    "import os\n",
    "\n",
    "path = '/Users/shlomihome/workspace/slots_tracker_server/pyinvoke'\n",
    "if path not in os.sys.path:\n",
    "    os.sys.path.append(path)\n",
    "os.sys.path\n",
    "%load_ext autoreload"
   ]
  },
  {
   "cell_type": "code",
   "execution_count": 12,
   "metadata": {},
   "outputs": [],
   "source": [
    "res = Expense.objects(active=True)"
   ]
  },
  {
   "cell_type": "code",
   "execution_count": 36,
   "metadata": {},
   "outputs": [],
   "source": [
    "%autoreload 2\n",
    "from pyinvoke.db import transform_desc\n",
    "c = Counter()\n",
    "for item in res:\n",
    "    description = item.description\n",
    "    clean_description = transform_desc(description)\n",
    "    c[clean_description] += 1\n",
    "\n",
    "values = []\n",
    "# for x in c.most_common():\n",
    "#     if x[1] > 1:\n",
    "#         values.append(x)\n",
    "\n",
    "for x in sorted(c.items()):\n",
    "    values.append(x)"
   ]
  },
  {
   "cell_type": "code",
   "execution_count": 38,
   "metadata": {},
   "outputs": [
    {
     "data": {
      "text/plain": [
       "270"
      ]
     },
     "execution_count": 38,
     "metadata": {},
     "output_type": "execute_result"
    }
   ],
   "source": [
    "len(values)\n",
    "# values"
   ]
  },
  {
   "cell_type": "code",
   "execution_count": 9,
   "metadata": {},
   "outputs": [
    {
     "data": {
      "text/plain": [
       "category\n",
       "5ba3e7492c88842df49ca27b    12603.0\n",
       "5ba3e74b2c88842df49ca287    12548.0\n",
       "5ba3e7492c88842df49ca27f     5035.0\n",
       "5ba3e74a2c88842df49ca283     1219.0\n",
       "5ba3e74a2c88842df49ca281      587.0\n",
       "5ba3e7492c88842df49ca27a      350.0\n",
       "5bc082b1ca39f80027787980       40.0\n",
       "Name: amount, dtype: float64"
      ]
     },
     "execution_count": 9,
     "metadata": {},
     "output_type": "execute_result"
    }
   ],
   "source": [
    "one_time.groupby('category').sum().round().amount.sort_values(ascending=False)"
   ]
  },
  {
   "cell_type": "code",
   "execution_count": 2,
   "metadata": {},
   "outputs": [],
   "source": [
    "from slots_tracker_server.models import WorkGroups, Categories, PayMethods, Expense, Users"
   ]
  },
  {
   "cell_type": "code",
   "execution_count": null,
   "metadata": {},
   "outputs": [],
   "source": []
  },
  {
   "cell_type": "code",
   "execution_count": null,
   "metadata": {},
   "outputs": [],
   "source": []
  },
  {
   "cell_type": "code",
   "execution_count": 7,
   "metadata": {},
   "outputs": [],
   "source": [
    "Users.objects.get(email='a').delete()"
   ]
  },
  {
   "cell_type": "code",
   "execution_count": 15,
   "metadata": {},
   "outputs": [
    {
     "data": {
      "text/plain": [
       "'work_groups'"
      ]
     },
     "execution_count": 15,
     "metadata": {},
     "output_type": "execute_result"
    }
   ],
   "source": [
    "WorkGroups._meta['collection']"
   ]
  },
  {
   "cell_type": "code",
   "execution_count": 16,
   "metadata": {},
   "outputs": [
    {
     "data": {
      "text/plain": [
       "<Users: Users object>"
      ]
     },
     "execution_count": 16,
     "metadata": {},
     "output_type": "execute_result"
    }
   ],
   "source": [
    "Users.objects().first()"
   ]
  },
  {
   "cell_type": "code",
   "execution_count": 4,
   "metadata": {},
   "outputs": [
    {
     "data": {
      "text/plain": [
       "'5e91935db60669d1d11dc08d'"
      ]
     },
     "execution_count": 4,
     "metadata": {},
     "output_type": "execute_result"
    }
   ],
   "source": [
    "user = Users.objects.get(email='a')\n",
    "str(user.id)"
   ]
  },
  {
   "cell_type": "code",
   "execution_count": null,
   "metadata": {},
   "outputs": [],
   "source": []
  },
  {
   "cell_type": "code",
   "execution_count": null,
   "metadata": {},
   "outputs": [],
   "source": []
  },
  {
   "cell_type": "code",
   "execution_count": null,
   "metadata": {},
   "outputs": [],
   "source": []
  },
  {
   "cell_type": "code",
   "execution_count": null,
   "metadata": {},
   "outputs": [],
   "source": []
  },
  {
   "cell_type": "code",
   "execution_count": null,
   "metadata": {},
   "outputs": [],
   "source": []
  },
  {
   "cell_type": "code",
   "execution_count": null,
   "metadata": {},
   "outputs": [],
   "source": []
  },
  {
   "cell_type": "code",
   "execution_count": null,
   "metadata": {},
   "outputs": [],
   "source": []
  },
  {
   "cell_type": "code",
   "execution_count": null,
   "metadata": {},
   "outputs": [],
   "source": []
  },
  {
   "cell_type": "code",
   "execution_count": null,
   "metadata": {},
   "outputs": [],
   "source": []
  },
  {
   "cell_type": "code",
   "execution_count": null,
   "metadata": {},
   "outputs": [],
   "source": []
  },
  {
   "cell_type": "code",
   "execution_count": null,
   "metadata": {},
   "outputs": [],
   "source": []
  },
  {
   "cell_type": "code",
   "execution_count": null,
   "metadata": {},
   "outputs": [],
   "source": []
  },
  {
   "cell_type": "code",
   "execution_count": null,
   "metadata": {},
   "outputs": [],
   "source": []
  },
  {
   "cell_type": "code",
   "execution_count": null,
   "metadata": {},
   "outputs": [],
   "source": []
  },
  {
   "cell_type": "code",
   "execution_count": null,
   "metadata": {},
   "outputs": [],
   "source": []
  },
  {
   "cell_type": "code",
   "execution_count": null,
   "metadata": {},
   "outputs": [],
   "source": []
  },
  {
   "cell_type": "code",
   "execution_count": null,
   "metadata": {},
   "outputs": [],
   "source": []
  },
  {
   "cell_type": "code",
   "execution_count": null,
   "metadata": {},
   "outputs": [],
   "source": []
  },
  {
   "cell_type": "code",
   "execution_count": null,
   "metadata": {},
   "outputs": [],
   "source": []
  },
  {
   "cell_type": "code",
   "execution_count": null,
   "metadata": {},
   "outputs": [],
   "source": []
  },
  {
   "cell_type": "code",
   "execution_count": null,
   "metadata": {},
   "outputs": [],
   "source": []
  },
  {
   "cell_type": "code",
   "execution_count": null,
   "metadata": {},
   "outputs": [],
   "source": []
  },
  {
   "cell_type": "code",
   "execution_count": null,
   "metadata": {},
   "outputs": [],
   "source": []
  },
  {
   "cell_type": "code",
   "execution_count": null,
   "metadata": {},
   "outputs": [],
   "source": []
  },
  {
   "cell_type": "code",
   "execution_count": null,
   "metadata": {},
   "outputs": [],
   "source": []
  },
  {
   "cell_type": "code",
   "execution_count": null,
   "metadata": {},
   "outputs": [],
   "source": []
  },
  {
   "cell_type": "code",
   "execution_count": null,
   "metadata": {},
   "outputs": [],
   "source": []
  },
  {
   "cell_type": "code",
   "execution_count": null,
   "metadata": {},
   "outputs": [],
   "source": []
  }
 ],
 "metadata": {
  "kernelspec": {
   "display_name": ".venv",
   "language": "python",
   "name": ".venv"
  },
  "language_info": {
   "codemirror_mode": {
    "name": "ipython",
    "version": 3
   },
   "file_extension": ".py",
   "mimetype": "text/x-python",
   "name": "python",
   "nbconvert_exporter": "python",
   "pygments_lexer": "ipython3",
   "version": "3.7.6"
  }
 },
 "nbformat": 4,
 "nbformat_minor": 2
}

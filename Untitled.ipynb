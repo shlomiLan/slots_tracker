{
 "cells": [
  {
   "cell_type": "code",
   "execution_count": 1,
   "metadata": {},
   "outputs": [],
   "source": [
    "import pandas as pd\n",
    "from slots_tracker_server.models import Expense"
   ]
  },
  {
   "cell_type": "code",
   "execution_count": 4,
   "metadata": {},
   "outputs": [
    {
     "name": "stderr",
     "output_type": "stream",
     "text": [
      "/Users/shlomihome/workspace/slots_tracker_server/venv/lib/python3.7/site-packages/ipykernel_launcher.py:3: FutureWarning: The pandas.datetime class is deprecated and will be removed from pandas in a future version. Import from datetime module instead.\n",
      "  This is separate from the ipykernel package so we can avoid doing imports until\n"
     ]
    },
    {
     "data": {
      "text/html": [
       "<div>\n",
       "<style scoped>\n",
       "    .dataframe tbody tr th:only-of-type {\n",
       "        vertical-align: middle;\n",
       "    }\n",
       "\n",
       "    .dataframe tbody tr th {\n",
       "        vertical-align: top;\n",
       "    }\n",
       "\n",
       "    .dataframe thead th {\n",
       "        text-align: right;\n",
       "    }\n",
       "</style>\n",
       "<table border=\"1\" class=\"dataframe\">\n",
       "  <thead>\n",
       "    <tr style=\"text-align: right;\">\n",
       "      <th></th>\n",
       "      <th>_id</th>\n",
       "      <th>amount</th>\n",
       "      <th>pay_method</th>\n",
       "      <th>timestamp</th>\n",
       "      <th>active</th>\n",
       "      <th>category</th>\n",
       "      <th>one_time</th>\n",
       "    </tr>\n",
       "  </thead>\n",
       "  <tbody>\n",
       "    <tr>\n",
       "      <th>2030</th>\n",
       "      <td>5e7dbedfd5f45c1ecfd750fa</td>\n",
       "      <td>33.30</td>\n",
       "      <td>5ba3e7472c88842df49ca273</td>\n",
       "      <td>2020-03-26</td>\n",
       "      <td>True</td>\n",
       "      <td>5ba3e74a2c88842df49ca282</td>\n",
       "      <td>False</td>\n",
       "    </tr>\n",
       "    <tr>\n",
       "      <th>2031</th>\n",
       "      <td>5e7dc16509e75ba148cf4a80</td>\n",
       "      <td>6.50</td>\n",
       "      <td>5ba3e7472c88842df49ca270</td>\n",
       "      <td>2020-03-13</td>\n",
       "      <td>True</td>\n",
       "      <td>5ba3e74a2c88842df49ca281</td>\n",
       "      <td>False</td>\n",
       "    </tr>\n",
       "    <tr>\n",
       "      <th>2032</th>\n",
       "      <td>5e7dc3ca09e75ba148cf4a81</td>\n",
       "      <td>30.27</td>\n",
       "      <td>5ba3e7472c88842df49ca270</td>\n",
       "      <td>2020-02-25</td>\n",
       "      <td>True</td>\n",
       "      <td>5ba3e7492c88842df49ca27e</td>\n",
       "      <td>False</td>\n",
       "    </tr>\n",
       "    <tr>\n",
       "      <th>2033</th>\n",
       "      <td>5e7dc3e0d5f45c1ecfd750fb</td>\n",
       "      <td>332.00</td>\n",
       "      <td>5ba3e7472c88842df49ca272</td>\n",
       "      <td>2020-03-26</td>\n",
       "      <td>True</td>\n",
       "      <td>5ba3e74a2c88842df49ca282</td>\n",
       "      <td>False</td>\n",
       "    </tr>\n",
       "    <tr>\n",
       "      <th>2034</th>\n",
       "      <td>5e7f5d0384fcf5d661aad3e4</td>\n",
       "      <td>76.73</td>\n",
       "      <td>5ba3e7472c88842df49ca271</td>\n",
       "      <td>2020-03-15</td>\n",
       "      <td>True</td>\n",
       "      <td>5ba3e7492c88842df49ca27e</td>\n",
       "      <td>False</td>\n",
       "    </tr>\n",
       "  </tbody>\n",
       "</table>\n",
       "</div>"
      ],
      "text/plain": [
       "                           _id  amount                pay_method  timestamp  \\\n",
       "2030  5e7dbedfd5f45c1ecfd750fa   33.30  5ba3e7472c88842df49ca273 2020-03-26   \n",
       "2031  5e7dc16509e75ba148cf4a80    6.50  5ba3e7472c88842df49ca270 2020-03-13   \n",
       "2032  5e7dc3ca09e75ba148cf4a81   30.27  5ba3e7472c88842df49ca270 2020-02-25   \n",
       "2033  5e7dc3e0d5f45c1ecfd750fb  332.00  5ba3e7472c88842df49ca272 2020-03-26   \n",
       "2034  5e7f5d0384fcf5d661aad3e4   76.73  5ba3e7472c88842df49ca271 2020-03-15   \n",
       "\n",
       "      active                  category  one_time  \n",
       "2030    True  5ba3e74a2c88842df49ca282     False  \n",
       "2031    True  5ba3e74a2c88842df49ca281     False  \n",
       "2032    True  5ba3e7492c88842df49ca27e     False  \n",
       "2033    True  5ba3e74a2c88842df49ca282     False  \n",
       "2034    True  5ba3e7492c88842df49ca27e     False  "
      ]
     },
     "execution_count": 4,
     "metadata": {},
     "output_type": "execute_result"
    }
   ],
   "source": [
    "expense_data = pd.DataFrame(Expense.objects().to_json())\n",
    "expense_data.timestamp = pd.to_datetime(expense_data.timestamp)\n",
    "today = pd.datetime.today()\n",
    "expense_data = expense_data[expense_data.timestamp <= today]\n",
    "one_time = expense_data[expense_data.one_time]\n",
    "not_one_time = expense_data[~expense_data.one_time]\n",
    "expense_data.tail()"
   ]
  },
  {
   "cell_type": "code",
   "execution_count": 5,
   "metadata": {},
   "outputs": [
    {
     "data": {
      "text/plain": [
       "category\n",
       "5ba3e7492c88842df49ca27e    56336.0\n",
       "5ba3e7492c88842df49ca27b    43750.0\n",
       "5ba3e7492c88842df49ca27f    30679.0\n",
       "5ba3e74a2c88842df49ca282    30658.0\n",
       "5ba3e74a2c88842df49ca281    17415.0\n",
       "5ba3e74a2c88842df49ca284    14998.0\n",
       "5daac0ddbc2b8d058ed4bbd0    11166.0\n",
       "5ba3e7492c88842df49ca27a     9595.0\n",
       "5ba3e74a2c88842df49ca283     7826.0\n",
       "5ba3e74b2c88842df49ca286     6310.0\n",
       "5df932927c4d12f7615a9515     5341.0\n",
       "5ba3e7492c88842df49ca27d     3366.0\n",
       "5ba3e7492c88842df49ca27c     2579.0\n",
       "5d6565fa49aee18bc3d4c386     2298.0\n",
       "5ba3e74a2c88842df49ca280     1590.0\n",
       "5ba3e74b2c88842df49ca287     1514.0\n",
       "5ce79809e9196b08903ce1bd     1060.0\n",
       "5bc082b1ca39f80027787980      907.0\n",
       "5ba3e74a2c88842df49ca285      189.0\n",
       "5cfbf9661ecfa12ae9d139fa       50.0\n",
       "5ba77c8d1eefa20028082db4    -2074.0\n",
       "Name: amount, dtype: float64"
      ]
     },
     "execution_count": 5,
     "metadata": {},
     "output_type": "execute_result"
    }
   ],
   "source": [
    "temp = not_one_time.groupby('category').sum().round().amount.sort_values(ascending=False)\n",
    "temp"
   ]
  },
  {
   "cell_type": "code",
   "execution_count": 30,
   "metadata": {},
   "outputs": [
    {
     "data": {
      "text/plain": [
       "category\n",
       "5ba3e74a2c88842df49ca282    7299.0\n",
       "5ba3e7492c88842df49ca27b    6863.0\n",
       "5ba3e74a2c88842df49ca281    5416.0\n",
       "5ba3e7492c88842df49ca27e    4920.0\n",
       "5ba3e7492c88842df49ca27f    4904.0\n",
       "5ba3e74a2c88842df49ca284    3440.0\n",
       "5ba3e74a2c88842df49ca280    1590.0\n",
       "5ba3e7492c88842df49ca27d    1322.0\n",
       "5ba3e7492c88842df49ca27a    1163.0\n",
       "5ba3e74a2c88842df49ca283     860.0\n",
       "5ba3e7492c88842df49ca27c     685.0\n",
       "5ba3e74b2c88842df49ca286     684.0\n",
       "5ba3e74b2c88842df49ca287     464.0\n",
       "5bc082b1ca39f80027787980      58.0\n",
       "5ba3e74a2c88842df49ca285      30.0\n",
       "Name: amount, dtype: float64"
      ]
     },
     "execution_count": 30,
     "metadata": {},
     "output_type": "execute_result"
    }
   ],
   "source": [
    "temp2 = not_one_time.groupby('category').sum().round().amount.sort_values(ascending=False)\n",
    "temp2"
   ]
  },
  {
   "cell_type": "code",
   "execution_count": 11,
   "metadata": {},
   "outputs": [
    {
     "data": {
      "text/plain": [
       "_id           539\n",
       "amount        539\n",
       "pay_method    539\n",
       "timestamp     539\n",
       "active        539\n",
       "category      539\n",
       "one_time      539\n",
       "dtype: int64"
      ]
     },
     "execution_count": 11,
     "metadata": {},
     "output_type": "execute_result"
    }
   ],
   "source": [
    "not_one_time[not_one_time.category == '5ba3e74a2c88842df49ca282'].count()"
   ]
  },
  {
   "cell_type": "code",
   "execution_count": 18,
   "metadata": {},
   "outputs": [],
   "source": [
    "from datetime import datetime\n",
    "today = datetime.today()"
   ]
  },
  {
   "cell_type": "code",
   "execution_count": 91,
   "metadata": {},
   "outputs": [
    {
     "data": {
      "text/html": [
       "<div>\n",
       "<style scoped>\n",
       "    .dataframe tbody tr th:only-of-type {\n",
       "        vertical-align: middle;\n",
       "    }\n",
       "\n",
       "    .dataframe tbody tr th {\n",
       "        vertical-align: top;\n",
       "    }\n",
       "\n",
       "    .dataframe thead th {\n",
       "        text-align: right;\n",
       "    }\n",
       "</style>\n",
       "<table border=\"1\" class=\"dataframe\">\n",
       "  <thead>\n",
       "    <tr style=\"text-align: right;\">\n",
       "      <th></th>\n",
       "      <th>_id</th>\n",
       "      <th>amount</th>\n",
       "      <th>pay_method</th>\n",
       "      <th>timestamp</th>\n",
       "      <th>active</th>\n",
       "      <th>category</th>\n",
       "      <th>one_time</th>\n",
       "    </tr>\n",
       "  </thead>\n",
       "  <tbody>\n",
       "    <tr>\n",
       "      <th>1163</th>\n",
       "      <td>5cf6baa1349a4d1073ed9741</td>\n",
       "      <td>890.0</td>\n",
       "      <td>5ba3e7472c88842df49ca272</td>\n",
       "      <td>2019-06-04</td>\n",
       "      <td>True</td>\n",
       "      <td>5ba3e7492c88842df49ca27b</td>\n",
       "      <td>False</td>\n",
       "    </tr>\n",
       "    <tr>\n",
       "      <th>52</th>\n",
       "      <td>5ba3e76c2c88842df49ca2bc</td>\n",
       "      <td>663.4</td>\n",
       "      <td>5ba3e7472c88842df49ca272</td>\n",
       "      <td>2018-06-25</td>\n",
       "      <td>True</td>\n",
       "      <td>5ba3e74a2c88842df49ca282</td>\n",
       "      <td>False</td>\n",
       "    </tr>\n",
       "    <tr>\n",
       "      <th>1372</th>\n",
       "      <td>5d579268057f8779fabc8644</td>\n",
       "      <td>569.0</td>\n",
       "      <td>5ba3e7472c88842df49ca272</td>\n",
       "      <td>2019-07-31</td>\n",
       "      <td>True</td>\n",
       "      <td>5ba3e74a2c88842df49ca282</td>\n",
       "      <td>False</td>\n",
       "    </tr>\n",
       "    <tr>\n",
       "      <th>1122</th>\n",
       "      <td>5ce5a4fcc14379a9c77937de</td>\n",
       "      <td>460.0</td>\n",
       "      <td>5ba3e7472c88842df49ca270</td>\n",
       "      <td>2019-05-20</td>\n",
       "      <td>True</td>\n",
       "      <td>5ba3e7492c88842df49ca27b</td>\n",
       "      <td>False</td>\n",
       "    </tr>\n",
       "  </tbody>\n",
       "</table>\n",
       "</div>"
      ],
      "text/plain": [
       "                           _id  amount                pay_method  timestamp  \\\n",
       "1163  5cf6baa1349a4d1073ed9741   890.0  5ba3e7472c88842df49ca272 2019-06-04   \n",
       "52    5ba3e76c2c88842df49ca2bc   663.4  5ba3e7472c88842df49ca272 2018-06-25   \n",
       "1372  5d579268057f8779fabc8644   569.0  5ba3e7472c88842df49ca272 2019-07-31   \n",
       "1122  5ce5a4fcc14379a9c77937de   460.0  5ba3e7472c88842df49ca270 2019-05-20   \n",
       "\n",
       "      active                  category  one_time  \n",
       "1163    True  5ba3e7492c88842df49ca27b     False  \n",
       "52      True  5ba3e74a2c88842df49ca282     False  \n",
       "1372    True  5ba3e74a2c88842df49ca282     False  \n",
       "1122    True  5ba3e7492c88842df49ca27b     False  "
      ]
     },
     "execution_count": 91,
     "metadata": {},
     "output_type": "execute_result"
    }
   ],
   "source": [
    "expense_data[ \n",
    "    ((expense_data.category == '5ba3e74a2c88842df49ca282') | \n",
    "     (expense_data.category == '5ba3e7492c88842df49ca27b'))].sort_values(\n",
    "    'amount', ascending=False).groupby('category').head(2)"
   ]
  },
  {
   "cell_type": "code",
   "execution_count": null,
   "metadata": {},
   "outputs": [],
   "source": []
  },
  {
   "cell_type": "code",
   "execution_count": null,
   "metadata": {},
   "outputs": [],
   "source": []
  },
  {
   "cell_type": "code",
   "execution_count": null,
   "metadata": {},
   "outputs": [],
   "source": []
  },
  {
   "cell_type": "code",
   "execution_count": null,
   "metadata": {},
   "outputs": [],
   "source": []
  },
  {
   "cell_type": "code",
   "execution_count": null,
   "metadata": {},
   "outputs": [],
   "source": []
  },
  {
   "cell_type": "code",
   "execution_count": null,
   "metadata": {},
   "outputs": [],
   "source": []
  },
  {
   "cell_type": "code",
   "execution_count": null,
   "metadata": {},
   "outputs": [],
   "source": []
  },
  {
   "cell_type": "code",
   "execution_count": null,
   "metadata": {},
   "outputs": [],
   "source": []
  },
  {
   "cell_type": "code",
   "execution_count": null,
   "metadata": {},
   "outputs": [],
   "source": []
  },
  {
   "cell_type": "code",
   "execution_count": null,
   "metadata": {},
   "outputs": [],
   "source": []
  },
  {
   "cell_type": "code",
   "execution_count": null,
   "metadata": {},
   "outputs": [],
   "source": []
  },
  {
   "cell_type": "code",
   "execution_count": null,
   "metadata": {},
   "outputs": [],
   "source": []
  },
  {
   "cell_type": "code",
   "execution_count": null,
   "metadata": {},
   "outputs": [],
   "source": []
  },
  {
   "cell_type": "code",
   "execution_count": null,
   "metadata": {},
   "outputs": [],
   "source": []
  },
  {
   "cell_type": "code",
   "execution_count": null,
   "metadata": {},
   "outputs": [],
   "source": []
  },
  {
   "cell_type": "code",
   "execution_count": null,
   "metadata": {},
   "outputs": [],
   "source": []
  },
  {
   "cell_type": "code",
   "execution_count": null,
   "metadata": {},
   "outputs": [],
   "source": []
  },
  {
   "cell_type": "code",
   "execution_count": null,
   "metadata": {},
   "outputs": [],
   "source": []
  },
  {
   "cell_type": "code",
   "execution_count": 42,
   "metadata": {},
   "outputs": [
    {
     "data": {
      "text/plain": [
       "0                                                   NaN\n",
       "1                                                   NaN\n",
       "2                                         חיובים קודמים\n",
       "3     מספר חשבון  12-615-338471  תאריך הפקה  05.06.2...\n",
       "4                             סה''כ חיובים קודמים בש''ח\n",
       "                            ...                        \n",
       "93    מספר חשבון  12-615-338471  תאריך הפקה  05.06.2...\n",
       "94                                             שם כרטיס\n",
       "95                                                 7759\n",
       "96                                                 7759\n",
       "97                                                 7759\n",
       "Name: Unnamed: 0, Length: 98, dtype: object"
      ]
     },
     "execution_count": 42,
     "metadata": {},
     "output_type": "execute_result"
    }
   ],
   "source": [
    "excel_data_df = pd.read_excel('/Users/shlomihome/Downloads/dec_19.xlsx')\n",
    "excel_data_df['Unnamed: 0']\n",
    "# list(excel_data_df)\n",
    "# start_inx = excel_data_df[excel_data_df['Unnamed: 0'].str.contains(\"פירוט עבור הכרטיסים בארץ\", na=False)].index[0]\n",
    "# end_inx = excel_data_df[excel_data_df['Unnamed: 0'].str.contains(\"פירוט עבור הכרטיסים בחו''ל בדולר\", na=False)].index[0]\n",
    "# first_section = excel_data_df.iloc[start_inx + 3:end_inx - 2, :]\n",
    "# first_section.columns = excel_data_df.iloc[start_inx + 2]\n",
    "# first_section\n"
   ]
  },
  {
   "cell_type": "code",
   "execution_count": null,
   "metadata": {},
   "outputs": [],
   "source": []
  },
  {
   "cell_type": "code",
   "execution_count": null,
   "metadata": {},
   "outputs": [],
   "source": []
  },
  {
   "cell_type": "code",
   "execution_count": null,
   "metadata": {},
   "outputs": [],
   "source": []
  },
  {
   "cell_type": "code",
   "execution_count": null,
   "metadata": {},
   "outputs": [],
   "source": []
  },
  {
   "cell_type": "code",
   "execution_count": null,
   "metadata": {},
   "outputs": [],
   "source": []
  },
  {
   "cell_type": "code",
   "execution_count": null,
   "metadata": {},
   "outputs": [],
   "source": []
  },
  {
   "cell_type": "code",
   "execution_count": null,
   "metadata": {},
   "outputs": [],
   "source": []
  },
  {
   "cell_type": "code",
   "execution_count": null,
   "metadata": {},
   "outputs": [],
   "source": []
  },
  {
   "cell_type": "code",
   "execution_count": null,
   "metadata": {},
   "outputs": [],
   "source": []
  },
  {
   "cell_type": "code",
   "execution_count": null,
   "metadata": {},
   "outputs": [],
   "source": []
  },
  {
   "cell_type": "code",
   "execution_count": null,
   "metadata": {},
   "outputs": [],
   "source": []
  },
  {
   "cell_type": "code",
   "execution_count": null,
   "metadata": {},
   "outputs": [],
   "source": []
  },
  {
   "cell_type": "code",
   "execution_count": null,
   "metadata": {},
   "outputs": [],
   "source": []
  },
  {
   "cell_type": "code",
   "execution_count": null,
   "metadata": {},
   "outputs": [],
   "source": []
  },
  {
   "cell_type": "code",
   "execution_count": null,
   "metadata": {},
   "outputs": [],
   "source": []
  },
  {
   "cell_type": "code",
   "execution_count": null,
   "metadata": {},
   "outputs": [],
   "source": []
  },
  {
   "cell_type": "code",
   "execution_count": null,
   "metadata": {},
   "outputs": [],
   "source": []
  },
  {
   "cell_type": "code",
   "execution_count": null,
   "metadata": {},
   "outputs": [],
   "source": []
  },
  {
   "cell_type": "code",
   "execution_count": null,
   "metadata": {},
   "outputs": [],
   "source": []
  },
  {
   "cell_type": "code",
   "execution_count": null,
   "metadata": {},
   "outputs": [],
   "source": []
  },
  {
   "cell_type": "code",
   "execution_count": null,
   "metadata": {},
   "outputs": [],
   "source": []
  },
  {
   "cell_type": "code",
   "execution_count": null,
   "metadata": {},
   "outputs": [],
   "source": []
  },
  {
   "cell_type": "code",
   "execution_count": null,
   "metadata": {},
   "outputs": [],
   "source": []
  },
  {
   "cell_type": "code",
   "execution_count": null,
   "metadata": {},
   "outputs": [],
   "source": []
  },
  {
   "cell_type": "code",
   "execution_count": null,
   "metadata": {},
   "outputs": [],
   "source": []
  },
  {
   "cell_type": "code",
   "execution_count": null,
   "metadata": {},
   "outputs": [],
   "source": []
  },
  {
   "cell_type": "code",
   "execution_count": null,
   "metadata": {},
   "outputs": [],
   "source": []
  },
  {
   "cell_type": "code",
   "execution_count": null,
   "metadata": {},
   "outputs": [],
   "source": []
  },
  {
   "cell_type": "code",
   "execution_count": null,
   "metadata": {},
   "outputs": [],
   "source": []
  },
  {
   "cell_type": "code",
   "execution_count": null,
   "metadata": {},
   "outputs": [],
   "source": []
  },
  {
   "cell_type": "code",
   "execution_count": null,
   "metadata": {},
   "outputs": [],
   "source": []
  },
  {
   "cell_type": "code",
   "execution_count": null,
   "metadata": {},
   "outputs": [],
   "source": []
  },
  {
   "cell_type": "code",
   "execution_count": null,
   "metadata": {},
   "outputs": [],
   "source": []
  },
  {
   "cell_type": "code",
   "execution_count": null,
   "metadata": {},
   "outputs": [],
   "source": []
  },
  {
   "cell_type": "code",
   "execution_count": null,
   "metadata": {},
   "outputs": [],
   "source": []
  },
  {
   "cell_type": "code",
   "execution_count": null,
   "metadata": {},
   "outputs": [],
   "source": []
  },
  {
   "cell_type": "code",
   "execution_count": null,
   "metadata": {},
   "outputs": [],
   "source": []
  },
  {
   "cell_type": "code",
   "execution_count": null,
   "metadata": {},
   "outputs": [],
   "source": []
  },
  {
   "cell_type": "code",
   "execution_count": null,
   "metadata": {},
   "outputs": [],
   "source": []
  },
  {
   "cell_type": "code",
   "execution_count": null,
   "metadata": {},
   "outputs": [],
   "source": []
  },
  {
   "cell_type": "code",
   "execution_count": null,
   "metadata": {},
   "outputs": [],
   "source": []
  },
  {
   "cell_type": "code",
   "execution_count": null,
   "metadata": {},
   "outputs": [],
   "source": []
  },
  {
   "cell_type": "code",
   "execution_count": null,
   "metadata": {},
   "outputs": [],
   "source": []
  },
  {
   "cell_type": "code",
   "execution_count": null,
   "metadata": {},
   "outputs": [],
   "source": []
  },
  {
   "cell_type": "code",
   "execution_count": null,
   "metadata": {},
   "outputs": [],
   "source": []
  },
  {
   "cell_type": "code",
   "execution_count": null,
   "metadata": {},
   "outputs": [],
   "source": []
  },
  {
   "cell_type": "code",
   "execution_count": null,
   "metadata": {},
   "outputs": [],
   "source": []
  },
  {
   "cell_type": "code",
   "execution_count": null,
   "metadata": {},
   "outputs": [],
   "source": []
  },
  {
   "cell_type": "code",
   "execution_count": null,
   "metadata": {},
   "outputs": [],
   "source": []
  },
  {
   "cell_type": "code",
   "execution_count": 36,
   "metadata": {},
   "outputs": [],
   "source": [
    "%autoreload 2\n",
    "from pyinvoke.db import transform_desc\n",
    "c = Counter()\n",
    "for item in res:\n",
    "    description = item.description\n",
    "    clean_description = transform_desc(description)\n",
    "    c[clean_description] += 1\n",
    "\n",
    "values = []\n",
    "# for x in c.most_common():\n",
    "#     if x[1] > 1:\n",
    "#         values.append(x)\n",
    "\n",
    "for x in sorted(c.items()):\n",
    "    values.append(x)"
   ]
  }
 ],
 "metadata": {
  "kernelspec": {
   "display_name": ".venv",
   "language": "python",
   "name": ".venv"
  },
  "language_info": {
   "codemirror_mode": {
    "name": "ipython",
    "version": 3
   },
   "file_extension": ".py",
   "mimetype": "text/x-python",
   "name": "python",
   "nbconvert_exporter": "python",
   "pygments_lexer": "ipython3",
   "version": "3.7.6"
  }
 },
 "nbformat": 4,
 "nbformat_minor": 2
}

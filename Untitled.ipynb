{
 "cells": [
  {
   "cell_type": "code",
   "execution_count": 1,
   "metadata": {},
   "outputs": [],
   "source": [
    "import pandas as pd\n",
    "from slots_tracker_server.models import Expense"
   ]
  },
  {
   "cell_type": "code",
   "execution_count": 2,
   "metadata": {},
   "outputs": [
    {
     "data": {
      "text/html": [
       "<div>\n",
       "<style scoped>\n",
       "    .dataframe tbody tr th:only-of-type {\n",
       "        vertical-align: middle;\n",
       "    }\n",
       "\n",
       "    .dataframe tbody tr th {\n",
       "        vertical-align: top;\n",
       "    }\n",
       "\n",
       "    .dataframe thead th {\n",
       "        text-align: right;\n",
       "    }\n",
       "</style>\n",
       "<table border=\"1\" class=\"dataframe\">\n",
       "  <thead>\n",
       "    <tr style=\"text-align: right;\">\n",
       "      <th></th>\n",
       "      <th>_id</th>\n",
       "      <th>active</th>\n",
       "      <th>amount</th>\n",
       "      <th>category</th>\n",
       "      <th>description</th>\n",
       "      <th>one_time</th>\n",
       "      <th>pay_method</th>\n",
       "      <th>timestamp</th>\n",
       "    </tr>\n",
       "  </thead>\n",
       "  <tbody>\n",
       "    <tr>\n",
       "      <th>0</th>\n",
       "      <td>5ba3e74d2c88842df49ca288</td>\n",
       "      <td>True</td>\n",
       "      <td>13.5</td>\n",
       "      <td>5ba3e7492c88842df49ca27a</td>\n",
       "      <td>רכבת</td>\n",
       "      <td>False</td>\n",
       "      <td>5ba3e7482c88842df49ca275</td>\n",
       "      <td>2018-06-15</td>\n",
       "    </tr>\n",
       "    <tr>\n",
       "      <th>1</th>\n",
       "      <td>5ba3e74e2c88842df49ca289</td>\n",
       "      <td>True</td>\n",
       "      <td>50.0</td>\n",
       "      <td>5ba3e7492c88842df49ca27b</td>\n",
       "      <td>ארוחת בוקר</td>\n",
       "      <td>False</td>\n",
       "      <td>5ba3e7482c88842df49ca275</td>\n",
       "      <td>2018-06-15</td>\n",
       "    </tr>\n",
       "    <tr>\n",
       "      <th>2</th>\n",
       "      <td>5ba3e74e2c88842df49ca28a</td>\n",
       "      <td>True</td>\n",
       "      <td>30.8</td>\n",
       "      <td>5ba3e7492c88842df49ca27c</td>\n",
       "      <td>סופר פארם</td>\n",
       "      <td>False</td>\n",
       "      <td>5ba3e7482c88842df49ca275</td>\n",
       "      <td>2018-06-15</td>\n",
       "    </tr>\n",
       "    <tr>\n",
       "      <th>3</th>\n",
       "      <td>5ba3e74f2c88842df49ca28b</td>\n",
       "      <td>True</td>\n",
       "      <td>10.0</td>\n",
       "      <td>5ba3e7492c88842df49ca27b</td>\n",
       "      <td>שתייה</td>\n",
       "      <td>False</td>\n",
       "      <td>5ba3e7472c88842df49ca26f</td>\n",
       "      <td>2018-06-15</td>\n",
       "    </tr>\n",
       "    <tr>\n",
       "      <th>4</th>\n",
       "      <td>5ba3e74f2c88842df49ca28c</td>\n",
       "      <td>True</td>\n",
       "      <td>30.0</td>\n",
       "      <td>5ba3e7492c88842df49ca27d</td>\n",
       "      <td>טלפון שלומי</td>\n",
       "      <td>False</td>\n",
       "      <td>5ba3e7482c88842df49ca275</td>\n",
       "      <td>2018-06-15</td>\n",
       "    </tr>\n",
       "  </tbody>\n",
       "</table>\n",
       "</div>"
      ],
      "text/plain": [
       "                        _id  active  amount                  category  \\\n",
       "0  5ba3e74d2c88842df49ca288    True    13.5  5ba3e7492c88842df49ca27a   \n",
       "1  5ba3e74e2c88842df49ca289    True    50.0  5ba3e7492c88842df49ca27b   \n",
       "2  5ba3e74e2c88842df49ca28a    True    30.8  5ba3e7492c88842df49ca27c   \n",
       "3  5ba3e74f2c88842df49ca28b    True    10.0  5ba3e7492c88842df49ca27b   \n",
       "4  5ba3e74f2c88842df49ca28c    True    30.0  5ba3e7492c88842df49ca27d   \n",
       "\n",
       "   description  one_time                pay_method  timestamp  \n",
       "0         רכבת     False  5ba3e7482c88842df49ca275 2018-06-15  \n",
       "1   ארוחת בוקר     False  5ba3e7482c88842df49ca275 2018-06-15  \n",
       "2    סופר פארם     False  5ba3e7482c88842df49ca275 2018-06-15  \n",
       "3        שתייה     False  5ba3e7472c88842df49ca26f 2018-06-15  \n",
       "4  טלפון שלומי     False  5ba3e7482c88842df49ca275 2018-06-15  "
      ]
     },
     "execution_count": 2,
     "metadata": {},
     "output_type": "execute_result"
    }
   ],
   "source": [
    "expense_data = pd.DataFrame(Expense.objects().to_json())\n",
    "expense_data.timestamp = pd.to_datetime(expense_data.timestamp)\n",
    "today = pd.datetime.today()\n",
    "expense_data = expense_data[expense_data.timestamp <= today]\n",
    "one_time = expense_data[expense_data.one_time]\n",
    "not_one_time = expense_data[~expense_data.one_time]\n",
    "expense_data.head()"
   ]
  },
  {
   "cell_type": "code",
   "execution_count": 3,
   "metadata": {},
   "outputs": [
    {
     "data": {
      "text/plain": [
       "category\n",
       "5ba3e74a2c88842df49ca282    6090.37\n",
       "5ba3e7492c88842df49ca27b    5370.72\n",
       "5ba3e7492c88842df49ca27f    4592.94\n",
       "5ba3e74a2c88842df49ca281    3722.14\n",
       "5ba3e74a2c88842df49ca284    2080.00\n",
       "Name: amount, dtype: float64"
      ]
     },
     "execution_count": 3,
     "metadata": {},
     "output_type": "execute_result"
    }
   ],
   "source": [
    "temp = not_one_time.groupby('category').sum().amount.sort_values(ascending=False)\n",
    "temp.head()"
   ]
  },
  {
   "cell_type": "code",
   "execution_count": 6,
   "metadata": {},
   "outputs": [
    {
     "data": {
      "text/plain": [
       "28522.95"
      ]
     },
     "execution_count": 6,
     "metadata": {},
     "output_type": "execute_result"
    }
   ],
   "source": [
    "temp = not_one_time.sum().amount\n",
    "# temp.index = temp.index.strftime('%B %Y')\n",
    "temp"
   ]
  },
  {
   "cell_type": "code",
   "execution_count": 12,
   "metadata": {},
   "outputs": [
    {
     "data": {
      "text/plain": [
       "June 2019    751.0\n",
       "July 2019    751.0\n",
       "Name: amount, dtype: float64"
      ]
     },
     "execution_count": 12,
     "metadata": {},
     "output_type": "execute_result"
    }
   ],
   "source": [
    "temp2 = one_time.groupby(pd.Grouper(key='timestamp', freq='1M')).sum().amount.last('2M')\n",
    "temp2.index = temp2.index.strftime('%B %Y')\n",
    "temp2"
   ]
  },
  {
   "cell_type": "code",
   "execution_count": 29,
   "metadata": {},
   "outputs": [
    {
     "data": {
      "text/plain": [
       "Index(['06/30/18', '07/31/18'], dtype='object')"
      ]
     },
     "execution_count": 29,
     "metadata": {},
     "output_type": "execute_result"
    }
   ],
   "source": [
    "cond = (expense_data.timestamp > previous_10th) & (expense_data.timestamp < current_10th)\n",
    "t = expense_data[cond].groupby(pd.Grouper(key='timestamp', freq='1M')).sum().round().amount\n",
    "t.index = t.index.strftime('%D')\n",
    "t.index"
   ]
  },
  {
   "cell_type": "code",
   "execution_count": 1,
   "metadata": {},
   "outputs": [],
   "source": [
    "from slots_tracker_server.utils import convert_to_object_id, find_and_convert_object_id, find_and_convert_date, get_10th"
   ]
  },
  {
   "cell_type": "code",
   "execution_count": 8,
   "metadata": {},
   "outputs": [
    {
     "data": {
      "text/plain": [
       "datetime.datetime(2018, 6, 10, 0, 0)"
      ]
     },
     "execution_count": 8,
     "metadata": {},
     "output_type": "execute_result"
    }
   ],
   "source": [
    "previous_10th, current_10th, next_10th = get_10th(pd.datetime(2018, 7, 10))\n",
    "previous_10th"
   ]
  },
  {
   "cell_type": "code",
   "execution_count": null,
   "metadata": {},
   "outputs": [],
   "source": []
  }
 ],
 "metadata": {
  "kernelspec": {
   "display_name": "Python 3",
   "language": "python",
   "name": "python3"
  },
  "language_info": {
   "codemirror_mode": {
    "name": "ipython",
    "version": 3
   },
   "file_extension": ".py",
   "mimetype": "text/x-python",
   "name": "python",
   "nbconvert_exporter": "python",
   "pygments_lexer": "ipython3",
   "version": "3.6.5"
  }
 },
 "nbformat": 4,
 "nbformat_minor": 2
}
